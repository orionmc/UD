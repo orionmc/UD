{
 "cells": [
  {
   "cell_type": "code",
   "execution_count": null,
   "metadata": {},
   "outputs": [],
   "source": [
    " #Parses a list of text lines describing hardware collected from the warehouse.\n",
    "    # Returns a dictionary with the counts each piece of hardware.\n",
    "    # param lines: A list of strings, where each string is one line of the unstructured text.\n",
    "    # return: A dictionary with aggregated counts per item category.\n",
    "    \n",
    "    # As we use very specific brand and model of each hardware - I've created a list where we can add/remove models\n",
    "    # Define lists for desktop, laptop, and phone models for flexibility and future tuning"
   ]
  }
 ],
 "metadata": {
  "kernelspec": {
   "display_name": "Python 3",
   "language": "python",
   "name": "python3"
  },
  "language_info": {
   "name": "python",
   "version": "3.11.0"
  }
 },
 "nbformat": 4,
 "nbformat_minor": 2
}
