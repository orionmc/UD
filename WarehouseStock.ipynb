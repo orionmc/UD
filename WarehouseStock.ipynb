{
 "cells": [
  {
   "cell_type": "code",
   "execution_count": 1,
   "metadata": {},
   "outputs": [
    {
     "name": "stdout",
     "output_type": "stream",
     "text": [
      "RESULTS:\n",
      "  Monitors: 10\n",
      "  Desktops:\n",
      "    Model 3000: 1\n",
      "  Laptops:\n",
      "    Model 5540: 4\n",
      "    Model 5340: 4\n",
      "    Model 5531: 2\n",
      "  Phones:\n",
      "  Bags:\n",
      "    small bag: 4\n",
      "    large bag: 5\n",
      "  Chargers:\n",
      "    100w usb-c charger: 1\n",
      "    130w usb-c charger: 4\n",
      "    90w usb-c chargers: 3\n",
      "  Docks: 0\n",
      "  Headsets:\n"
     ]
    }
   ],
   "source": [
    "# in order to make the source code easy to read and modify I've placed those modules in a separate files    \n",
    "import DataExtraction   # this module is responsible for extractin the email's body from the mailbox [without signature]\n",
    "import DataAnalysis     # this module is responsible for parsing the email's body and extracting the required data\n",
    "\n",
    "def main():\n",
    "    # Specify which mailbox/store to read, exactly matching 'store.DisplayName'\n",
    "        # this part of the source code can be modified to read from a different mailbox or subfolder\n",
    "        # in case we have to run it on different user's machine or mailbox.\n",
    "    mailbox_name    = \"n.yumer@my.bpp.com\"  \n",
    "    subfolder_name  = \"ROMIC\"\n",
    "\n",
    "    # Read emails from the subfolder\n",
    "    all_bodies = DataExtraction.read_outlook_subfolder_stores(mailbox_name, subfolder_name)\n",
    "\n",
    "    # #Debug section to see what dataextraction is returning\n",
    "    # print(\"All bodies (no signature):\")\n",
    "    # for i, body_text in enumerate(all_bodies, start=1):\n",
    "    #     print(f\"Body #{i}:\\n{body_text}\")\n",
    "    #     print(\"-\" * 40)\n",
    "    # #Debug section to see what dataextraction is returning\n",
    "\n",
    "    parsed_results = DataAnalysis.parse_warehouse_list(all_bodies)\n",
    "    print(\"RESULTS:\")\n",
    "    print(f\"  Monitors: {parsed_results['monitors']}\")\n",
    "\n",
    "    # [NEW] Print the recognized desktop models\n",
    "    print(\"  Desktops:\")\n",
    "    for model, qty in parsed_results['desktops'].items():\n",
    "        print(f\"    Model {model}: {qty}\")\n",
    "\n",
    "    # [NEW] Print the recognized laptop models\n",
    "    print(\"  Laptops:\")\n",
    "    for model, qty in parsed_results['laptops'].items():\n",
    "        print(f\"    Model {model}: {qty}\")\n",
    "\n",
    "    # [NEW] Print the recognized phone models\n",
    "    print(\"  Phones:\")\n",
    "    for model, qty in parsed_results['phones'].items():\n",
    "        print(f\"    Model {model}: {qty}\")\n",
    "\n",
    "    print(\"  Bags:\")\n",
    "    for bag_type, qty in parsed_results['bags'].items():\n",
    "        print(f\"    {bag_type} bag: {qty}\")\n",
    "\n",
    "    print(\"  Chargers:\")\n",
    "    for charger_label, qty in parsed_results['chargers'].items():\n",
    "        print(f\"    {charger_label}: {qty}\")\n",
    "\n",
    "    print(f\"  Docks: {parsed_results['docks']}\")\n",
    "\n",
    "    print(\"  Headsets:\")\n",
    "    for headset_label, qty in parsed_results['headsets'].items():\n",
    "        print(f\"    {headset_label}: {qty}\")\n",
    "if __name__ == \"__main__\":\n",
    "    main()\n",
    "\n"
   ]
  },
  {
   "cell_type": "code",
   "execution_count": null,
   "metadata": {},
   "outputs": [],
   "source": []
  }
 ],
 "metadata": {
  "kernelspec": {
   "display_name": "Python 3",
   "language": "python",
   "name": "python3"
  },
  "language_info": {
   "codemirror_mode": {
    "name": "ipython",
    "version": 3
   },
   "file_extension": ".py",
   "mimetype": "text/x-python",
   "name": "python",
   "nbconvert_exporter": "python",
   "pygments_lexer": "ipython3",
   "version": "3.11.9"
  }
 },
 "nbformat": 4,
 "nbformat_minor": 2
}
