{
 "cells": [
  {
   "cell_type": "code",
   "execution_count": 1,
   "metadata": {},
   "outputs": [
    {
     "ename": "AttributeError",
     "evalue": "'tuple' object has no attribute 'upper'",
     "output_type": "error",
     "traceback": [
      "\u001b[1;31m---------------------------------------------------------------------------\u001b[0m",
      "\u001b[1;31mAttributeError\u001b[0m                            Traceback (most recent call last)",
      "Cell \u001b[1;32mIn[1], line 59\u001b[0m\n\u001b[0;32m     57\u001b[0m         \u001b[38;5;28mprint\u001b[39m(\u001b[38;5;124mf\u001b[39m\u001b[38;5;124m\"\u001b[39m\u001b[38;5;124m    Line: \u001b[39m\u001b[38;5;130;01m\\\"\u001b[39;00m\u001b[38;5;132;01m{\u001b[39;00mline\u001b[38;5;132;01m}\u001b[39;00m\u001b[38;5;130;01m\\\"\u001b[39;00m\u001b[38;5;124m, Sender: \u001b[39m\u001b[38;5;132;01m{\u001b[39;00msender\u001b[38;5;132;01m}\u001b[39;00m\u001b[38;5;124m, Received Time: \u001b[39m\u001b[38;5;132;01m{\u001b[39;00mtime\u001b[38;5;132;01m}\u001b[39;00m\u001b[38;5;124m\"\u001b[39m)\n\u001b[0;32m     58\u001b[0m \u001b[38;5;28;01mif\u001b[39;00m \u001b[38;5;18m__name__\u001b[39m \u001b[38;5;241m==\u001b[39m \u001b[38;5;124m\"\u001b[39m\u001b[38;5;124m__main__\u001b[39m\u001b[38;5;124m\"\u001b[39m:\n\u001b[1;32m---> 59\u001b[0m     \u001b[43mmain\u001b[49m\u001b[43m(\u001b[49m\u001b[43m)\u001b[49m\n",
      "Cell \u001b[1;32mIn[1], line 18\u001b[0m, in \u001b[0;36mmain\u001b[1;34m()\u001b[0m\n\u001b[0;32m     13\u001b[0m all_bodies \u001b[38;5;241m=\u001b[39m DataExtraction\u001b[38;5;241m.\u001b[39mread_outlook_subfolder_stores(mailbox_name, subfolder_name)\n\u001b[0;32m     15\u001b[0m \u001b[38;5;66;03m# For demonstration purposes of this project I print the result, but in the real scenario\u001b[39;00m\n\u001b[0;32m     16\u001b[0m \u001b[38;5;66;03m# I will wreite the resuts in dedicated excell file for the interested parites to review and use.\u001b[39;00m\n\u001b[1;32m---> 18\u001b[0m parsed_results \u001b[38;5;241m=\u001b[39m \u001b[43mDataAnalysis\u001b[49m\u001b[38;5;241;43m.\u001b[39;49m\u001b[43mparse_emails\u001b[49m\u001b[43m(\u001b[49m\u001b[43mall_bodies\u001b[49m\u001b[43m)\u001b[49m\n\u001b[0;32m     19\u001b[0m \u001b[38;5;28mprint\u001b[39m(\u001b[38;5;124m\"\u001b[39m\u001b[38;5;124mRESULTS:\u001b[39m\u001b[38;5;124m\"\u001b[39m)\n\u001b[0;32m     20\u001b[0m \u001b[38;5;28mprint\u001b[39m(\u001b[38;5;124mf\u001b[39m\u001b[38;5;124m\"\u001b[39m\u001b[38;5;124m  Monitors: \u001b[39m\u001b[38;5;132;01m{\u001b[39;00mparsed_results[\u001b[38;5;124m'\u001b[39m\u001b[38;5;124mmonitors\u001b[39m\u001b[38;5;124m'\u001b[39m]\u001b[38;5;132;01m}\u001b[39;00m\u001b[38;5;124m\"\u001b[39m)\n",
      "File \u001b[1;32mc:\\Users\\user0\\Documents\\BPP\\Unstructured Data\\code\\Sum-UD\\UD\\DataAnalysis.py:277\u001b[0m, in \u001b[0;36mparse_emails\u001b[1;34m(email_data)\u001b[0m\n\u001b[0;32m    275\u001b[0m phone_matches \u001b[38;5;241m=\u001b[39m phone_pattern\u001b[38;5;241m.\u001b[39mfindall(line_clean)\n\u001b[0;32m    276\u001b[0m \u001b[38;5;28;01mfor\u001b[39;00m model \u001b[38;5;129;01min\u001b[39;00m phone_matches:\n\u001b[1;32m--> 277\u001b[0m     model_upper \u001b[38;5;241m=\u001b[39m \u001b[43mmodel\u001b[49m\u001b[38;5;241;43m.\u001b[39;49m\u001b[43mupper\u001b[49m()\n\u001b[0;32m    278\u001b[0m     increment_phone(model_upper, \u001b[38;5;241m1\u001b[39m)\n\u001b[0;32m    279\u001b[0m     parsed \u001b[38;5;241m=\u001b[39m \u001b[38;5;28;01mTrue\u001b[39;00m\n",
      "\u001b[1;31mAttributeError\u001b[0m: 'tuple' object has no attribute 'upper'"
     ]
    }
   ],
   "source": [
    "# in order to make the source code easy to read and modify I've placed those modules in a separate files    \n",
    "import DataExtraction   # this module is responsible for extractin the email's body from the mailbox [without signature]\n",
    "import DataAnalysis     # this module is responsible for parsing the email's body and extracting the required data\n",
    "\n",
    "def main():\n",
    "    # Specify which mailbox/store to read, exactly matching 'store.DisplayName'\n",
    "        # this part of the source code can be modified to read from a different mailbox or subfolder\n",
    "        # in case we have to run it on different user's machine or mailbox.\n",
    "    mailbox_name    = \"n.yumer@my.bpp.com\"  # for anonimity reasons I've removed the mailbox name\n",
    "    subfolder_name  = \"ROMIC\"\n",
    "\n",
    "    # Read emails from the subfolder\n",
    "    all_bodies = DataExtraction.read_outlook_subfolder_stores(mailbox_name, subfolder_name)\n",
    "\n",
    "    # For demonstration purposes of this project I print the result, but in the real scenario\n",
    "    # I will wreite the resuts in dedicated excell file for the interested parites to review and use.\n",
    "    \n",
    "    parsed_results = DataAnalysis.parse_emails(all_bodies)\n",
    "    print(\"RESULTS:\")\n",
    "    print(f\"  Monitors: {parsed_results['monitors']}\")\n",
    "\n",
    "    # [NEW] Print the recognized desktop models\n",
    "    print(\"  Desktops:\")\n",
    "    for model, qty in parsed_results['desktops'].items():\n",
    "        print(f\"    Model {model}: {qty}\")\n",
    "\n",
    "    # [NEW] Print the recognized laptop models\n",
    "    print(\"  Laptops:\")\n",
    "    for model, qty in parsed_results['laptops'].items():\n",
    "        print(f\"    Model {model}: {qty}\")\n",
    "\n",
    "    # [NEW] Print the recognized phone models\n",
    "    print(\"  Phones:\")\n",
    "    for model, qty in parsed_results['phones'].items():\n",
    "        print(f\"    Model {model}: {qty}\")\n",
    "\n",
    "    print(\"  Bags:\")\n",
    "    for bag_type, qty in parsed_results['bags'].items():\n",
    "        print(f\"    {bag_type} bag: {qty}\")\n",
    "\n",
    "    print(\"  Chargers:\")\n",
    "    for charger_label, qty in parsed_results['chargers'].items():\n",
    "        print(f\"    {charger_label}: {qty}\")\n",
    "\n",
    "    print(f\"  Docks: {parsed_results['docks']}\")\n",
    "\n",
    "    print(\"  Headsets:\")\n",
    "    for headset_label, qty in parsed_results['headsets'].items():\n",
    "        print(f\"    {headset_label}: {qty}\")\n",
    "\n",
    "    # [NEW] Print the unparsable lines with sender and time\n",
    "    print(\"  Unparsable Lines:\")\n",
    "    for unparsable in parsed_results['unparsable_lines']:\n",
    "        line = unparsable['line']\n",
    "        sender = unparsable['sender']\n",
    "        time = unparsable['received_time']\n",
    "        print(f\"    Line: \\\"{line}\\\", Sender: {sender}, Received Time: {time}\")\n",
    "if __name__ == \"__main__\":\n",
    "    main()\n",
    "\n"
   ]
  },
  {
   "cell_type": "code",
   "execution_count": null,
   "metadata": {},
   "outputs": [],
   "source": []
  }
 ],
 "metadata": {
  "kernelspec": {
   "display_name": "Python 3",
   "language": "python",
   "name": "python3"
  },
  "language_info": {
   "codemirror_mode": {
    "name": "ipython",
    "version": 3
   },
   "file_extension": ".py",
   "mimetype": "text/x-python",
   "name": "python",
   "nbconvert_exporter": "python",
   "pygments_lexer": "ipython3",
   "version": "3.11.9"
  }
 },
 "nbformat": 4,
 "nbformat_minor": 2
}
