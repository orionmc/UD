{
 "cells": [
  {
   "cell_type": "code",
   "execution_count": 6,
   "metadata": {},
   "outputs": [
    {
     "name": "stdout",
     "output_type": "stream",
     "text": [
      "Stores found in Outlook.Stores:\n",
      "  DisplayName: nihat.yumer@outlook.com\n",
      "  DisplayName: n.yumer@my.bpp.com\n",
      "  DisplayName: afizenihat@outlook.com\n",
      "  DisplayName: nyumer@dlrmn.onmicrosoft.com\n",
      "\n"
     ]
    }
   ],
   "source": [
    "# import win32com.client\n",
    "\n",
    "# def list_outlook_stores():\n",
    "#     outlook = win32com.client.Dispatch(\"Outlook.Application\").GetNamespace(\"MAPI\")\n",
    "#     stores = outlook.Stores\n",
    "\n",
    "#     print(\"Stores found in Outlook.Stores:\")\n",
    "#     for store in stores:\n",
    "#         print(f\"  DisplayName: {store.DisplayName}\")\n",
    "#     print()\n",
    "\n",
    "# if __name__ == \"__main__\":\n",
    "#     list_outlook_stores()\n"
   ]
  },
  {
   "cell_type": "code",
   "execution_count": 14,
   "metadata": {},
   "outputs": [
    {
     "ename": "AttributeError",
     "evalue": "module 'DataExtraction' has no attribute 'read_outlook_subfolder_stores'",
     "output_type": "error",
     "traceback": [
      "\u001b[1;31m---------------------------------------------------------------------------\u001b[0m",
      "\u001b[1;31mAttributeError\u001b[0m                            Traceback (most recent call last)",
      "Cell \u001b[1;32mIn[14], line 14\u001b[0m\n\u001b[0;32m     11\u001b[0m     DataExtraction\u001b[38;5;241m.\u001b[39mread_outlook_subfolder_stores(mailbox_name, subfolder_name)\n\u001b[0;32m     13\u001b[0m \u001b[38;5;28;01mif\u001b[39;00m \u001b[38;5;18m__name__\u001b[39m \u001b[38;5;241m==\u001b[39m \u001b[38;5;124m\"\u001b[39m\u001b[38;5;124m__main__\u001b[39m\u001b[38;5;124m\"\u001b[39m:\n\u001b[1;32m---> 14\u001b[0m     \u001b[43mmain\u001b[49m\u001b[43m(\u001b[49m\u001b[43m)\u001b[49m\n",
      "Cell \u001b[1;32mIn[14], line 11\u001b[0m, in \u001b[0;36mmain\u001b[1;34m()\u001b[0m\n\u001b[0;32m      8\u001b[0m subfolder_name \u001b[38;5;241m=\u001b[39m \u001b[38;5;124m\"\u001b[39m\u001b[38;5;124mROMIC\u001b[39m\u001b[38;5;124m\"\u001b[39m       \u001b[38;5;66;03m# must match exactly a subfolder under the Inbox\u001b[39;00m\n\u001b[0;32m     10\u001b[0m \u001b[38;5;66;03m# 2. Read emails from the subfolder\u001b[39;00m\n\u001b[1;32m---> 11\u001b[0m \u001b[43mDataExtraction\u001b[49m\u001b[38;5;241;43m.\u001b[39;49m\u001b[43mread_outlook_subfolder_stores\u001b[49m(mailbox_name, subfolder_name)\n",
      "\u001b[1;31mAttributeError\u001b[0m: module 'DataExtraction' has no attribute 'read_outlook_subfolder_stores'"
     ]
    }
   ],
   "source": [
    "import DataExtraction\n",
    "#import DataAnalysis\n",
    "\n",
    "def main():\n",
    "    # 1. Specify which mailbox/store to read, exactly matching 'store.DisplayName'\n",
    "    # mailbox_name = \"Nihat.Yumer@nhft.nhs.uk\"  \n",
    "    mailbox_name = \"n.yumer@my.bpp.com\"  \n",
    "    subfolder_name = \"ROMIC\"       # must match exactly a subfolder under the Inbox\n",
    "\n",
    "    # 2. Read emails from the subfolder\n",
    "    DataExtraction.read_outlook_subfolder_stores(mailbox_name, subfolder_name)\n",
    "\n",
    "if __name__ == \"__main__\":\n",
    "    main()\n",
    "\n"
   ]
  }
 ],
 "metadata": {
  "kernelspec": {
   "display_name": "Python 3",
   "language": "python",
   "name": "python3"
  },
  "language_info": {
   "codemirror_mode": {
    "name": "ipython",
    "version": 3
   },
   "file_extension": ".py",
   "mimetype": "text/x-python",
   "name": "python",
   "nbconvert_exporter": "python",
   "pygments_lexer": "ipython3",
   "version": "3.11.9"
  }
 },
 "nbformat": 4,
 "nbformat_minor": 2
}
