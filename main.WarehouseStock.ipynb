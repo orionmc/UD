{
 "cells": [
  {
   "cell_type": "code",
   "execution_count": 1,
   "metadata": {},
   "outputs": [
    {
     "name": "stdout",
     "output_type": "stream",
     "text": [
      "===== FINAL COUNTS =====\n",
      "Monitors: 4\n",
      "Desktops: {'3000': 3000}\n",
      "Laptops: {'5666': 11332, 'unknown_laptop': 5678}\n",
      "Phones: {'A35': 18}\n",
      "Bags: {}\n",
      "Chargers: {'charger': 5, 'chargers': 3}\n",
      "Docks: 0\n",
      "Headsets: {}\n",
      "Unparsable Lines: ['Phone collected S23 A35', 'PC x2 3111', 'Phone collected S23', '2136', 'X6 24” screens – MASH @ CJC', 'Inventory of Hardware Collected from warehouse  1 x 5540', 'Asset details of devices collected (if required)     Asset 076975', 'Hi', 'I have booked out the following items:', 'SCTASK0031985', 'CJC', 'With', 'Inventory of Hardware Collected from warehouse  4 x 5340', '4 x small laptop bag', '2 x 5531', '3 x 5540', '5 x large laptop bags', 'Asset details of devices collected (if required)     Asset 076507', '077041', '077310', '077303', '074388', '076602', '076557', '075667', '076691', 'Inventory of Hardware Collected from warehouse  1 x 5340', 'Asset details of devices collected (if required)     Asset 077309', 'cases taken sorry', 'From: Melay']\n"
     ]
    }
   ],
   "source": [
    "# in order to make the source code easy to read and modify [maintain in future] I've placed those modules in a separate files\n",
    "import DataExtraction   # module for extractin the email's body from the mailbox [without signature]\n",
    "import DataAnalysis     # module for parsing the email's body and extracting the required data\n",
    "\n",
    "def main():\n",
    "    # Specify which mailbox/store to read, exactly matching 'store.DisplayName'\n",
    "    # in case we have to run it on different user's machine or mailbox.\n",
    "    mailbox_name    = \"n.yumer@my.bpp.com\"  # for anonimity I've removed my mailbox name\n",
    "    subfolder_name  = \"ROMIC\"\n",
    "\n",
    "    # Read emails from the subfolder\n",
    "    all_bodies = DataExtraction.read_outlook_subfolder_stores(mailbox_name, subfolder_name)\n",
    "\n",
    "    # For demonstration purposes of this project I print the result, but in the real scenario\n",
    "    # I will write the result in a dedicated excell/csv file for the interested parites to view and use.\n",
    "\n",
    "    parsed_results = DataAnalysis.parse_emails(all_bodies)\n",
    "    print(\"RESULTS:\")\n",
    "    print(f\"  Monitors: {parsed_results['monitors']}\")\n",
    "\n",
    "    print(\"  Desktops:\")\n",
    "    for model, qty in parsed_results['desktops'].items():\n",
    "        print(f\"    Model {model}: {qty}\")\n",
    "\n",
    "    print(\"  Laptops:\")\n",
    "    for model, qty in parsed_results['laptops'].items():\n",
    "        print(f\"    Model {model}: {qty}\")\n",
    "\n",
    "    print(\"  Phones:\")\n",
    "    for model, qty in parsed_results['phones'].items():\n",
    "        print(f\"    Model {model}: {qty}\")\n",
    "\n",
    "    print(\"  Bags:\")\n",
    "    for bag_type, qty in parsed_results['bags'].items():\n",
    "        print(f\"    {bag_type} bag: {qty}\")\n",
    "\n",
    "    print(\"  Chargers:\")\n",
    "    for charger_label, qty in parsed_results['chargers'].items():\n",
    "        print(f\"    {charger_label}: {qty}\")\n",
    "\n",
    "    print(f\"  Docks: {parsed_results['docks']}\")\n",
    "\n",
    "    print(\"  Headsets:\")\n",
    "    for headset_label, qty in parsed_results['headsets'].items():\n",
    "        print(f\"    {headset_label}: {qty}\")\n",
    "\n",
    "    # Print the unparsable lines with sender's name and time stamp / for easy manual processing\n",
    "    print(\"  Unparsable Lines:\")\n",
    "    for unparsable in parsed_results['unparsable_lines']:\n",
    "        line = unparsable['line']\n",
    "        sender = unparsable['sender']\n",
    "        time = unparsable['received_time']\n",
    "        print(f\"    Line: \\\"{line}\\\", Sender: {sender}, Received Time: {time}\")\n",
    "\n",
    "if __name__ == \"__main__\":\n",
    "    main()\n",
    "\n"
   ]
  },
  {
   "cell_type": "code",
   "execution_count": null,
   "metadata": {},
   "outputs": [],
   "source": []
  }
 ],
 "metadata": {
  "kernelspec": {
   "display_name": "Python 3",
   "language": "python",
   "name": "python3"
  },
  "language_info": {
   "codemirror_mode": {
    "name": "ipython",
    "version": 3
   },
   "file_extension": ".py",
   "mimetype": "text/x-python",
   "name": "python",
   "nbconvert_exporter": "python",
   "pygments_lexer": "ipython3",
   "version": "3.11.9"
  }
 },
 "nbformat": 4,
 "nbformat_minor": 2
}
